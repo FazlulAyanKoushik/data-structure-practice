{
 "cells": [
  {
   "cell_type": "code",
   "execution_count": 7,
   "id": "initial_id",
   "metadata": {
    "collapsed": true,
    "ExecuteTime": {
     "end_time": "2023-10-30T19:37:47.609875800Z",
     "start_time": "2023-10-30T19:37:47.606837200Z"
    }
   },
   "outputs": [
    {
     "name": "stdout",
     "output_type": "stream",
     "text": [
      "array('i', [5, 8, 6, 3, 5, 6])\n"
     ]
    }
   ],
   "source": [
    "from array import *\n",
    "\n",
    "vals = array('i', [5,8,6,3,5, 6])\n",
    "\n",
    "print(vals)"
   ]
  },
  {
   "cell_type": "code",
   "execution_count": 8,
   "outputs": [
    {
     "name": "stdout",
     "output_type": "stream",
     "text": [
      "(2183297484816, 6)\n"
     ]
    }
   ],
   "source": [
    "print(vals.buffer_info())   # get arrays address and size of"
   ],
   "metadata": {
    "collapsed": false,
    "ExecuteTime": {
     "end_time": "2023-10-30T19:37:49.194054300Z",
     "start_time": "2023-10-30T19:37:49.187048900Z"
    }
   },
   "id": "150b9dca4ab36f33"
  },
  {
   "cell_type": "code",
   "execution_count": 9,
   "outputs": [
    {
     "name": "stdout",
     "output_type": "stream",
     "text": [
      "i\n"
     ]
    }
   ],
   "source": [
    "print(vals.typecode)    # get type of code"
   ],
   "metadata": {
    "collapsed": false,
    "ExecuteTime": {
     "end_time": "2023-10-30T19:37:49.581871600Z",
     "start_time": "2023-10-30T19:37:49.579354900Z"
    }
   },
   "id": "5b70f67097722b7c"
  },
  {
   "cell_type": "code",
   "execution_count": 10,
   "outputs": [
    {
     "name": "stdout",
     "output_type": "stream",
     "text": [
      "array('i', [6, 5, 3, 6, 8, 5])\n"
     ]
    }
   ],
   "source": [
    "vals.reverse()\n",
    "print(vals)"
   ],
   "metadata": {
    "collapsed": false,
    "ExecuteTime": {
     "end_time": "2023-10-30T19:37:49.912870400Z",
     "start_time": "2023-10-30T19:37:49.907864900Z"
    }
   },
   "id": "c696e126cd6d6c85"
  },
  {
   "cell_type": "code",
   "execution_count": 11,
   "outputs": [
    {
     "name": "stdout",
     "output_type": "stream",
     "text": [
      "3\n"
     ]
    }
   ],
   "source": [
    "print(vals[2])"
   ],
   "metadata": {
    "collapsed": false,
    "ExecuteTime": {
     "end_time": "2023-10-30T19:37:50.347050200Z",
     "start_time": "2023-10-30T19:37:50.339042700Z"
    }
   },
   "id": "e5399044bd27fa1d"
  },
  {
   "cell_type": "code",
   "execution_count": 12,
   "outputs": [
    {
     "name": "stdout",
     "output_type": "stream",
     "text": [
      "6\n",
      "5\n",
      "3\n",
      "6\n",
      "8\n",
      "5\n"
     ]
    }
   ],
   "source": [
    "for i in vals:\n",
    "    print(i)"
   ],
   "metadata": {
    "collapsed": false,
    "ExecuteTime": {
     "end_time": "2023-10-30T19:37:50.648390100Z",
     "start_time": "2023-10-30T19:37:50.644879300Z"
    }
   },
   "id": "ac4c31c6ec66a2bd"
  },
  {
   "cell_type": "code",
   "execution_count": 13,
   "outputs": [
    {
     "name": "stdout",
     "output_type": "stream",
     "text": [
      "6\n"
     ]
    }
   ],
   "source": [
    "print(len(vals))"
   ],
   "metadata": {
    "collapsed": false,
    "ExecuteTime": {
     "end_time": "2023-10-30T19:37:50.921039500Z",
     "start_time": "2023-10-30T19:37:50.918033600Z"
    }
   },
   "id": "8eb6413c5c788138"
  },
  {
   "cell_type": "code",
   "execution_count": 14,
   "outputs": [],
   "source": [
    "vals.append(9)"
   ],
   "metadata": {
    "collapsed": false,
    "ExecuteTime": {
     "end_time": "2023-10-30T19:37:51.313296400Z",
     "start_time": "2023-10-30T19:37:51.308286100Z"
    }
   },
   "id": "fa5e73dd22e3d8db"
  },
  {
   "cell_type": "code",
   "execution_count": 15,
   "outputs": [
    {
     "name": "stdout",
     "output_type": "stream",
     "text": [
      "array('i', [6, 5, 3, 6, 8, 5, 9])\n"
     ]
    }
   ],
   "source": [
    "print(vals)"
   ],
   "metadata": {
    "collapsed": false,
    "ExecuteTime": {
     "end_time": "2023-10-30T19:37:51.610447300Z",
     "start_time": "2023-10-30T19:37:51.603924100Z"
    }
   },
   "id": "22d90d0cde7e240e"
  },
  {
   "cell_type": "code",
   "execution_count": 16,
   "outputs": [],
   "source": [
    "vals.remove(6)"
   ],
   "metadata": {
    "collapsed": false,
    "ExecuteTime": {
     "end_time": "2023-10-30T19:37:52.005889Z",
     "start_time": "2023-10-30T19:37:51.997878200Z"
    }
   },
   "id": "174381060b04a7c4"
  },
  {
   "cell_type": "code",
   "execution_count": 17,
   "outputs": [
    {
     "name": "stdout",
     "output_type": "stream",
     "text": [
      "array('i', [5, 3, 6, 8, 5, 9])\n"
     ]
    }
   ],
   "source": [
    "print(vals)"
   ],
   "metadata": {
    "collapsed": false,
    "ExecuteTime": {
     "end_time": "2023-10-30T19:37:52.320541900Z",
     "start_time": "2023-10-30T19:37:52.316536100Z"
    }
   },
   "id": "ecbd9df5882f22a4"
  },
  {
   "cell_type": "code",
   "execution_count": 18,
   "outputs": [
    {
     "name": "stdout",
     "output_type": "stream",
     "text": [
      "array('i', [5, 3, 6, 8, 5])\n"
     ]
    }
   ],
   "source": [
    "vals.pop()\n",
    "print(vals)"
   ],
   "metadata": {
    "collapsed": false,
    "ExecuteTime": {
     "end_time": "2023-10-30T19:37:52.736749900Z",
     "start_time": "2023-10-30T19:37:52.727738500Z"
    }
   },
   "id": "1fbdc12acc068572"
  },
  {
   "cell_type": "code",
   "execution_count": 19,
   "outputs": [
    {
     "name": "stdout",
     "output_type": "stream",
     "text": [
      "array('u', 'abc')\n"
     ]
    }
   ],
   "source": [
    "from array import *\n",
    "char_values = array('u', ['a', 'b', 'c'])\n",
    "print(char_values)"
   ],
   "metadata": {
    "collapsed": false,
    "ExecuteTime": {
     "end_time": "2023-10-30T19:37:53.306717500Z",
     "start_time": "2023-10-30T19:37:53.302711300Z"
    }
   },
   "id": "fd63fd8eb9ac16df"
  },
  {
   "cell_type": "code",
   "execution_count": 20,
   "outputs": [
    {
     "name": "stdout",
     "output_type": "stream",
     "text": [
      "a\n",
      "b\n",
      "c\n"
     ]
    }
   ],
   "source": [
    "for i in char_values:\n",
    "    print(i)"
   ],
   "metadata": {
    "collapsed": false,
    "ExecuteTime": {
     "end_time": "2023-10-30T19:37:53.862822500Z",
     "start_time": "2023-10-30T19:37:53.854290200Z"
    }
   },
   "id": "f469c3860acbdc9e"
  },
  {
   "cell_type": "code",
   "execution_count": 21,
   "outputs": [
    {
     "name": "stdout",
     "output_type": "stream",
     "text": [
      "u\n"
     ]
    }
   ],
   "source": [
    "print(char_values.typecode)"
   ],
   "metadata": {
    "collapsed": false,
    "ExecuteTime": {
     "end_time": "2023-10-30T19:37:54.651384Z",
     "start_time": "2023-10-30T19:37:54.646839400Z"
    }
   },
   "id": "797416a7345f2a6d"
  },
  {
   "cell_type": "code",
   "execution_count": 22,
   "outputs": [],
   "source": [
    "# Now I want copy my first array to my new array\n",
    "new_array = array(vals.typecode, (value for value in vals))"
   ],
   "metadata": {
    "collapsed": false,
    "ExecuteTime": {
     "end_time": "2023-10-30T19:37:55.225385200Z",
     "start_time": "2023-10-30T19:37:55.220378300Z"
    }
   },
   "id": "76e137d8f9752ff5"
  },
  {
   "cell_type": "code",
   "execution_count": 23,
   "outputs": [
    {
     "name": "stdout",
     "output_type": "stream",
     "text": [
      "array('i', [5, 3, 6, 8, 5])\n"
     ]
    }
   ],
   "source": [
    "print(new_array)"
   ],
   "metadata": {
    "collapsed": false,
    "ExecuteTime": {
     "end_time": "2023-10-30T19:38:26.084648Z",
     "start_time": "2023-10-30T19:38:26.070129600Z"
    }
   },
   "id": "ae2d3e1a6d6b45f3"
  },
  {
   "cell_type": "code",
   "execution_count": null,
   "outputs": [],
   "source": [],
   "metadata": {
    "collapsed": false
   },
   "id": "37923e2b99514ac9"
  }
 ],
 "metadata": {
  "kernelspec": {
   "display_name": "Python 3",
   "language": "python",
   "name": "python3"
  },
  "language_info": {
   "codemirror_mode": {
    "name": "ipython",
    "version": 2
   },
   "file_extension": ".py",
   "mimetype": "text/x-python",
   "name": "python",
   "nbconvert_exporter": "python",
   "pygments_lexer": "ipython2",
   "version": "2.7.6"
  }
 },
 "nbformat": 4,
 "nbformat_minor": 5
}
