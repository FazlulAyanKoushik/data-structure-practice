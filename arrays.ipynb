{
 "cells": [
  {
   "cell_type": "code",
   "execution_count": 4,
   "id": "initial_id",
   "metadata": {
    "collapsed": true,
    "ExecuteTime": {
     "end_time": "2023-10-30T19:01:53.155784900Z",
     "start_time": "2023-10-30T19:01:53.152274100Z"
    }
   },
   "outputs": [
    {
     "name": "stdout",
     "output_type": "stream",
     "text": [
      "array('i', [5, 8, 6, 3, 5, 6])\n"
     ]
    }
   ],
   "source": [
    "from array import *\n",
    "\n",
    "vals = array('i', [5,8,6,3,5, 6])\n",
    "\n",
    "print(vals)"
   ]
  },
  {
   "cell_type": "code",
   "execution_count": 5,
   "outputs": [
    {
     "name": "stdout",
     "output_type": "stream",
     "text": [
      "(2552879361872, 6)\n"
     ]
    }
   ],
   "source": [
    "print(vals.buffer_info())   # get arrays address and size of"
   ],
   "metadata": {
    "collapsed": false,
    "ExecuteTime": {
     "end_time": "2023-10-30T19:01:55.915078700Z",
     "start_time": "2023-10-30T19:01:55.910651800Z"
    }
   },
   "id": "150b9dca4ab36f33"
  },
  {
   "cell_type": "code",
   "execution_count": 6,
   "outputs": [
    {
     "name": "stdout",
     "output_type": "stream",
     "text": [
      "i\n"
     ]
    }
   ],
   "source": [
    "print(vals.typecode)    # get type of code"
   ],
   "metadata": {
    "collapsed": false,
    "ExecuteTime": {
     "end_time": "2023-10-30T19:13:52.206692700Z",
     "start_time": "2023-10-30T19:13:52.199531Z"
    }
   },
   "id": "5b70f67097722b7c"
  },
  {
   "cell_type": "code",
   "execution_count": 7,
   "outputs": [
    {
     "name": "stdout",
     "output_type": "stream",
     "text": [
      "array('i', [6, 5, 3, 6, 8, 5])\n"
     ]
    }
   ],
   "source": [
    "vals.reverse()\n",
    "print(vals)"
   ],
   "metadata": {
    "collapsed": false,
    "ExecuteTime": {
     "end_time": "2023-10-30T19:15:14.787246700Z",
     "start_time": "2023-10-30T19:15:14.773912900Z"
    }
   },
   "id": "c696e126cd6d6c85"
  },
  {
   "cell_type": "code",
   "execution_count": 8,
   "outputs": [
    {
     "name": "stdout",
     "output_type": "stream",
     "text": [
      "3\n"
     ]
    }
   ],
   "source": [
    "print(vals[2])"
   ],
   "metadata": {
    "collapsed": false,
    "ExecuteTime": {
     "end_time": "2023-10-30T19:16:11.081744Z",
     "start_time": "2023-10-30T19:16:11.073636900Z"
    }
   },
   "id": "e5399044bd27fa1d"
  },
  {
   "cell_type": "code",
   "execution_count": 9,
   "outputs": [
    {
     "name": "stdout",
     "output_type": "stream",
     "text": [
      "6\n",
      "5\n",
      "3\n",
      "6\n",
      "8\n",
      "5\n"
     ]
    }
   ],
   "source": [
    "for i in vals:\n",
    "    print(i)"
   ],
   "metadata": {
    "collapsed": false,
    "ExecuteTime": {
     "end_time": "2023-10-30T19:16:50.899122400Z",
     "start_time": "2023-10-30T19:16:50.890881200Z"
    }
   },
   "id": "ac4c31c6ec66a2bd"
  },
  {
   "cell_type": "code",
   "execution_count": 10,
   "outputs": [
    {
     "name": "stdout",
     "output_type": "stream",
     "text": [
      "6\n"
     ]
    }
   ],
   "source": [
    "print(len(vals))"
   ],
   "metadata": {
    "collapsed": false,
    "ExecuteTime": {
     "end_time": "2023-10-30T19:17:50.670584800Z",
     "start_time": "2023-10-30T19:17:50.644791100Z"
    }
   },
   "id": "8eb6413c5c788138"
  },
  {
   "cell_type": "code",
   "execution_count": 11,
   "outputs": [],
   "source": [
    "vals.append(9)"
   ],
   "metadata": {
    "collapsed": false,
    "ExecuteTime": {
     "end_time": "2023-10-30T19:18:24.574283600Z",
     "start_time": "2023-10-30T19:18:24.563244800Z"
    }
   },
   "id": "fa5e73dd22e3d8db"
  },
  {
   "cell_type": "code",
   "execution_count": 12,
   "outputs": [
    {
     "name": "stdout",
     "output_type": "stream",
     "text": [
      "array('i', [6, 5, 3, 6, 8, 5, 9])\n"
     ]
    }
   ],
   "source": [
    "print(vals)"
   ],
   "metadata": {
    "collapsed": false,
    "ExecuteTime": {
     "end_time": "2023-10-30T19:18:30.586672800Z",
     "start_time": "2023-10-30T19:18:30.579733800Z"
    }
   },
   "id": "22d90d0cde7e240e"
  },
  {
   "cell_type": "code",
   "execution_count": 13,
   "outputs": [],
   "source": [
    "vals.remove(6)"
   ],
   "metadata": {
    "collapsed": false,
    "ExecuteTime": {
     "end_time": "2023-10-30T19:18:51.082083700Z",
     "start_time": "2023-10-30T19:18:51.071064400Z"
    }
   },
   "id": "174381060b04a7c4"
  },
  {
   "cell_type": "code",
   "execution_count": 14,
   "outputs": [
    {
     "name": "stdout",
     "output_type": "stream",
     "text": [
      "array('i', [5, 3, 6, 8, 5, 9])\n"
     ]
    }
   ],
   "source": [
    "print(vals)"
   ],
   "metadata": {
    "collapsed": false,
    "ExecuteTime": {
     "end_time": "2023-10-30T19:18:57.269319500Z",
     "start_time": "2023-10-30T19:18:57.254197500Z"
    }
   },
   "id": "ecbd9df5882f22a4"
  },
  {
   "cell_type": "code",
   "execution_count": 15,
   "outputs": [
    {
     "name": "stdout",
     "output_type": "stream",
     "text": [
      "array('i', [5, 3, 6, 8, 5])\n"
     ]
    }
   ],
   "source": [
    "vals.pop()\n",
    "print(vals)"
   ],
   "metadata": {
    "collapsed": false,
    "ExecuteTime": {
     "end_time": "2023-10-30T19:19:19.907189900Z",
     "start_time": "2023-10-30T19:19:19.900678600Z"
    }
   },
   "id": "1fbdc12acc068572"
  },
  {
   "cell_type": "code",
   "execution_count": null,
   "outputs": [],
   "source": [],
   "metadata": {
    "collapsed": false
   },
   "id": "fd63fd8eb9ac16df"
  }
 ],
 "metadata": {
  "kernelspec": {
   "display_name": "Python 3",
   "language": "python",
   "name": "python3"
  },
  "language_info": {
   "codemirror_mode": {
    "name": "ipython",
    "version": 2
   },
   "file_extension": ".py",
   "mimetype": "text/x-python",
   "name": "python",
   "nbconvert_exporter": "python",
   "pygments_lexer": "ipython2",
   "version": "2.7.6"
  }
 },
 "nbformat": 4,
 "nbformat_minor": 5
}
